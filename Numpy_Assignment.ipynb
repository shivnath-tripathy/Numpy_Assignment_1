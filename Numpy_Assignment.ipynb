{
 "cells": [
  {
   "cell_type": "code",
   "execution_count": 1,
   "metadata": {},
   "outputs": [
    {
     "name": "stdout",
     "output_type": "stream",
     "text": [
      "mean avg for iteration 0  is 5.0\n",
      "mean avg for iteration 1  is 4.666666666666667\n",
      "mean avg for iteration 2  is 5.666666666666667\n",
      "mean avg for iteration 3  is 6.666666666666667\n",
      "mean avg for iteration 4  is 9.666666666666666\n",
      "mean avg for iteration 5  is 28.666666666666668\n",
      "mean avg for iteration 6  is 49.333333333333336\n",
      "mean avg for iteration 7  is 72.66666666666667\n",
      "mean avg for iteration 8  is 84.0\n",
      "mean avg for iteration 9  is 93.33333333333333\n",
      "mean avg for iteration 10  is 116.33333333333333\n"
     ]
    }
   ],
   "source": [
    "import numpy as np\n",
    "y=x=[3, 5, 7, 2, 8, 10, 11, 65, 72, 81, 99, 100, 150]\n",
    "y= np.array(y)\n",
    "k=3\n",
    "for n in range (len(y)-k+1):\n",
    "    print (\"mean avg for iteration {}  is {}\".format(n, np.mean(y[n:n+k])))"
   ]
  },
  {
   "cell_type": "code",
   "execution_count": null,
   "metadata": {
    "collapsed": true
   },
   "outputs": [],
   "source": []
  },
  {
   "cell_type": "code",
   "execution_count": 2,
   "metadata": {},
   "outputs": [
    {
     "name": "stdout",
     "output_type": "stream",
     "text": [
      "mean average for iteration 0 is 5.0\n",
      "mean average for iteration 1 is 4.666666666666667\n",
      "mean average for iteration 2 is 5.666666666666667\n",
      "mean average for iteration 3 is 6.666666666666667\n",
      "mean average for iteration 4 is 9.666666666666666\n",
      "mean average for iteration 5 is 28.666666666666668\n",
      "mean average for iteration 6 is 49.333333333333336\n",
      "mean average for iteration 7 is 72.66666666666667\n",
      "mean average for iteration 8 is 84.0\n",
      "mean average for iteration 9 is 93.33333333333333\n",
      "mean average for iteration 10 is 116.33333333333333\n"
     ]
    }
   ],
   "source": [
    "import numpy as np\n",
    "\n",
    "x=[3, 5, 7, 2, 8, 10, 11, 65, 72, 81, 99, 100, 150]\n",
    "x= np.array(x)\n",
    "k=3\n",
    "#print(x)\n",
    "#print(x.dtype)\n",
    "shape = x.shape[:-1] + (x.shape[-1] - k + 1, k)\n",
    "strides = x.strides + (x.strides[-1],)\n",
    "#print (strides)\n",
    "#print (shape)\n",
    "a_strided = np.lib.stride_tricks.as_strided(x, shape=shape, strides=strides)\n",
    "#print (a_strided)\n",
    "y=np.mean(a_strided, -1)\n",
    "#print (y)\n",
    "for i, n in enumerate(y) :\n",
    "    print(\"mean average for iteration {} is {}\".format(i, n))"
   ]
  },
  {
   "cell_type": "code",
   "execution_count": 3,
   "metadata": {},
   "outputs": [
    {
     "name": "stdout",
     "output_type": "stream",
     "text": [
      "mean average for iteration 0 is 5.0\n",
      "mean average for iteration 1 is 4.666666666666667\n",
      "mean average for iteration 2 is 5.666666666666667\n",
      "mean average for iteration 3 is 6.666666666666667\n",
      "mean average for iteration 4 is 9.666666666666666\n",
      "mean average for iteration 5 is 28.666666666666668\n",
      "mean average for iteration 6 is 49.333333333333336\n",
      "mean average for iteration 7 is 72.66666666666667\n",
      "mean average for iteration 8 is 84.0\n",
      "mean average for iteration 9 is 93.33333333333333\n",
      "mean average for iteration 10 is 116.33333333333333\n"
     ]
    }
   ],
   "source": [
    "def rolling_window_mean(array, window):\n",
    "    shape = x.shape[:-1] + (x.shape[-1] - k + 1, k)\n",
    "    strides = x.strides + (x.strides[-1],)\n",
    "    np.lib.stride_tricks.as_strided(x, shape=shape, strides=strides)\n",
    "    y=np.mean(a_strided, -1)\n",
    "    for i, n in enumerate(y) :\n",
    "        print(\"mean average for iteration {} is {}\".format(i, n))\n",
    "\n",
    "x=[3, 5, 7, 2, 8, 10, 11, 65, 72, 81, 99, 100, 150]\n",
    "x= np.array(x)\n",
    "k=3\n",
    "rolling_window_mean(x, k)"
   ]
  },
  {
   "cell_type": "code",
   "execution_count": 26,
   "metadata": {},
   "outputs": [
    {
     "name": "stdout",
     "output_type": "stream",
     "text": [
      "mean average for iteration 0 is [ 5.]\n",
      "mean average for iteration 1 is [ 4.66666667]\n",
      "mean average for iteration 2 is [ 5.66666667]\n",
      "mean average for iteration 3 is [ 6.66666667]\n",
      "mean average for iteration 4 is [ 9.66666667]\n",
      "mean average for iteration 5 is [ 28.66666667]\n",
      "mean average for iteration 6 is [ 49.33333333]\n",
      "mean average for iteration 7 is [ 72.66666667]\n",
      "mean average for iteration 8 is [ 84.]\n",
      "mean average for iteration 9 is [ 93.33333333]\n",
      "mean average for iteration 10 is [ 116.33333333]\n"
     ]
    }
   ],
   "source": [
    "import numpy as np\n",
    "\n",
    "z=[3, 5, 7, 2, 8, 10, 11, 65, 72, 81, 99, 100, 150]\n",
    "z= np.array(z)\n",
    "window=3\n",
    "times = len(z) -window+1\n",
    "str=np.repeat(1/window, window)\n",
    "shape = z.shape[:-1] + (z.shape[-1] - window + 1, window)\n",
    "strides = z.strides + (z.strides[-1],)\n",
    "ut=np.lib.stride_tricks.as_strided(x, shape=shape, strides=strides)\n",
    "for i, mean in enumerate(ut):\n",
    "    dt=np.convolve(str,mean, 'valid')\n",
    "    print(\"mean average for iteration {} is {}\".format(i, dt))\n"
   ]
  },
  {
   "cell_type": "code",
   "execution_count": null,
   "metadata": {
    "collapsed": true
   },
   "outputs": [],
   "source": []
  }
 ],
 "metadata": {
  "kernelspec": {
   "display_name": "Python 3",
   "language": "python",
   "name": "python3"
  },
  "language_info": {
   "codemirror_mode": {
    "name": "ipython",
    "version": 3
   },
   "file_extension": ".py",
   "mimetype": "text/x-python",
   "name": "python",
   "nbconvert_exporter": "python",
   "pygments_lexer": "ipython3",
   "version": "3.6.3"
  }
 },
 "nbformat": 4,
 "nbformat_minor": 2
}
